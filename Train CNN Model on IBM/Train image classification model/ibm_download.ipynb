{
  "cells": [
    {
      "cell_type": "code",
      "execution_count": null,
      "metadata": {
        "id": "aNeMwRnbfWTi"
      },
      "outputs": [],
      "source": [
        "from ibm_watson_machine_learning import APIClient\n",
        "import tarfile\n",
        "\n",
        "web_cred={\n",
        "    \"apikey\": \"***********************************************\", #Confidential\n",
        "\t\"url\": \"https://ea-gf.mc.cloud.ibm.com\"\n",
        "}\n",
        "\n",
        "client=APIClient(web_cred)"
      ]
    },
    {
      "cell_type": "code",
      "execution_count": null,
      "metadata": {
        "id": "IH_fr_7HfWTj",
        "outputId": "159e3b23-ddad-49e8-9237-3a3d819d70fb"
      },
      "outputs": [
        {
          "data": {
            "text/plain": [
              "'SUCCESS'"
            ]
          },
          "execution_count": 2,
          "metadata": {},
          "output_type": "execute_result"
        }
      ],
      "source": [
        "spaceID=\"*******************************************\" #Confidential\n",
        "client.set.default_space(spaceID)"
      ]
    },
    {
      "cell_type": "code",
      "execution_count": null,
      "metadata": {
        "id": "uR4Nd9a6fWTk"
      },
      "outputs": [],
      "source": [
        "model_id=\"************************************************\" #Confidential"
      ]
    },
    {
      "cell_type": "code",
      "execution_count": null,
      "metadata": {
        "id": "drZvsD3JfWTk",
        "outputId": "71994f2c-8e7c-4d38-d3f5-530bb63d5d19"
      },
      "outputs": [
        {
          "name": "stdout",
          "output_type": "stream",
          "text": [
            "Successfully saved model content to file: 'Model/sign.tgz'\n"
          ]
        },
        {
          "data": {
            "text/plain": [
              "'c:\\\\Users\\\\Deva\\\\Documents\\\\PROGRAMMING\\\\Project/Model/sign.tgz'"
            ]
          },
          "execution_count": 4,
          "metadata": {},
          "output_type": "execute_result"
        }
      ],
      "source": [
        "client.repository.download(model_id,'Model/sign.tgz')"
      ]
    },
    {
      "cell_type": "code",
      "execution_count": null,
      "metadata": {
        "id": "ZRa5pZK4fWTk",
        "outputId": "50c10af0-ee66-4508-8e49-64646bf01587"
      },
      "outputs": [
        {
          "name": "stderr",
          "output_type": "stream",
          "text": [
            "x keras_model.h5\n"
          ]
        }
      ],
      "source": [
        "!tar xvf Model/sign.tgz --directory \"/Users/Deva/Documents/PROGRAMMING/Project/Model/\"\n"
      ]
    }
  ],
  "metadata": {
    "kernelspec": {
      "display_name": "Python 3.10.7 64-bit",
      "language": "python",
      "name": "python3"
    },
    "language_info": {
      "codemirror_mode": {
        "name": "ipython",
        "version": 3
      },
      "file_extension": ".py",
      "mimetype": "text/x-python",
      "name": "python",
      "nbconvert_exporter": "python",
      "pygments_lexer": "ipython3",
      "version": "3.10.7"
    },
    "orig_nbformat": 4,
    "vscode": {
      "interpreter": {
        "hash": "a9cff5a362bc38ef45d817ae74b1af54d6a076e3d773891282bce078b815ba34"
      }
    },
    "colab": {
      "provenance": []
    }
  },
  "nbformat": 4,
  "nbformat_minor": 0
}
